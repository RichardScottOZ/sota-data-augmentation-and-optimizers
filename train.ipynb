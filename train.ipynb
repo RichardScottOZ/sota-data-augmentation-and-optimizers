{
 "cells": [
  {
   "cell_type": "code",
   "execution_count": null,
   "metadata": {
    "colab": {
     "base_uri": "https://localhost:8080/",
     "height": 34
    },
    "colab_type": "code",
    "executionInfo": {
     "elapsed": 3002,
     "status": "ok",
     "timestamp": 1578451401023,
     "user": {
      "displayName": "Enoch Tetteh",
      "photoUrl": "",
      "userId": "18429685187145851841"
     },
     "user_tz": -120
    },
    "id": "uS-nw_DBw3e1",
    "outputId": "802081f9-dd9a-4de7-e8ac-6c05cd67106d"
   },
   "outputs": [],
   "source": [
    "from google.colab import drive\n",
    "drive.mount('/content/drive')"
   ]
  },
  {
   "cell_type": "code",
   "execution_count": null,
   "metadata": {
    "colab": {},
    "colab_type": "code",
    "id": "NXV6pOpRw6Th"
   },
   "outputs": [],
   "source": [
    "import os \n",
    "\n",
    "os.chdir('/content/drive/My Drive/data_augmentation_techniques')"
   ]
  },
  {
   "cell_type": "markdown",
   "metadata": {
    "colab_type": "text",
    "id": "DanWPaiAxMFs"
   },
   "source": [
    "### Train without implicit semantic data augmentation (isda)"
   ]
  },
  {
   "cell_type": "code",
   "execution_count": null,
   "metadata": {
    "colab": {
     "base_uri": "https://localhost:8080/",
     "height": 335
    },
    "colab_type": "code",
    "id": "uchecAejxCdh",
    "outputId": "16b1acdb-2178-4499-f8ef-3e793f8d87f3"
   },
   "outputs": [],
   "source": [
    "# Train baseline model. Thus, with no data augmentation\n",
    "!python main.py --[]"
   ]
  },
  {
   "cell_type": "code",
   "execution_count": null,
   "metadata": {
    "colab": {},
    "colab_type": "code",
    "id": "RWmcAlDIxFlw"
   },
   "outputs": [],
   "source": [
    "# Train baseline model with cutout data augmentation\n",
    "!python main.py --cutout --path 'cutout'"
   ]
  },
  {
   "cell_type": "code",
   "execution_count": null,
   "metadata": {
    "colab": {},
    "colab_type": "code",
    "id": "Lqs1k3MQxCBv"
   },
   "outputs": [],
   "source": [
    "# Train baseline model with autoaug data augmentation\n",
    "!python main.py --autoaug --path 'autoaug'"
   ]
  },
  {
   "cell_type": "code",
   "execution_count": null,
   "metadata": {
    "colab": {},
    "colab_type": "code",
    "id": "OVKn_Sm5xBsz"
   },
   "outputs": [],
   "source": [
    "# Train baseline model with randaug data augmentation\n",
    "!python main.py --randaug --path 'randaug'"
   ]
  },
  {
   "cell_type": "code",
   "execution_count": null,
   "metadata": {
    "colab": {},
    "colab_type": "code",
    "id": "Tx0mtq8QxBee"
   },
   "outputs": [],
   "source": [
    "# Train baseline model with augmix data augmentation\n",
    "!python main.py --augmix --path 'augmix'"
   ]
  },
  {
   "cell_type": "markdown",
   "metadata": {
    "colab_type": "text",
    "id": "zp7q618oxq5w"
   },
   "source": [
    "### Train with implicit semantic data augmentation"
   ]
  },
  {
   "cell_type": "code",
   "execution_count": null,
   "metadata": {
    "colab": {},
    "colab_type": "code",
    "id": "5mMzQIp9xBRw"
   },
   "outputs": [],
   "source": [
    "# Train baseline model with only isda data augmentation\n",
    "!python main_isda.py"
   ]
  },
  {
   "cell_type": "code",
   "execution_count": null,
   "metadata": {
    "colab": {},
    "colab_type": "code",
    "id": "RpaJBRmsxAWZ"
   },
   "outputs": [],
   "source": [
    "# Train baseline model with isda and cutout data augmentation\n",
    "!python main_isda.py --cutout --path 'cutout'"
   ]
  },
  {
   "cell_type": "code",
   "execution_count": null,
   "metadata": {
    "colab": {},
    "colab_type": "code",
    "id": "4tGhrpU_w8Ks"
   },
   "outputs": [],
   "source": [
    "# Train baseline model with isda and autoaug data augmentation\n",
    "!python main_isda.py --autoaug --path 'autoaug'"
   ]
  },
  {
   "cell_type": "code",
   "execution_count": null,
   "metadata": {
    "colab": {},
    "colab_type": "code",
    "id": "7-pG5uN_w7UT"
   },
   "outputs": [],
   "source": [
    "# Train baseline model with isda and randaug data augmentation\n",
    "!python main_isda.py --randaug --path 'randaug'"
   ]
  },
  {
   "cell_type": "code",
   "execution_count": null,
   "metadata": {
    "colab": {},
    "colab_type": "code",
    "id": "xr7NNJW9w7FZ"
   },
   "outputs": [],
   "source": [
    "# Train baseline model with isda and augmix data augmentation\n",
    "!python main_isda.py --augmix --path 'augmix'"
   ]
  }
 ],
 "metadata": {
  "accelerator": "GPU",
  "colab": {
   "name": "train.ipynb",
   "provenance": []
  },
  "kernelspec": {
   "display_name": "Python 3",
   "language": "python",
   "name": "python3"
  },
  "language_info": {
   "codemirror_mode": {
    "name": "ipython",
    "version": 3
   },
   "file_extension": ".py",
   "mimetype": "text/x-python",
   "name": "python",
   "nbconvert_exporter": "python",
   "pygments_lexer": "ipython3",
   "version": "3.7.5"
  }
 },
 "nbformat": 4,
 "nbformat_minor": 4
}
